{
 "cells": [
  {
   "cell_type": "markdown",
   "id": "e998311b",
   "metadata": {},
   "source": [
    "# 02: Basic String & List "
   ]
  },
  {
   "cell_type": "code",
   "execution_count": 106,
   "id": "759f41b6",
   "metadata": {},
   "outputs": [
    {
     "name": "stdout",
     "output_type": "stream",
     "text": [
      "110070234512\n",
      "1 1007 02345 12 9\n"
     ]
    }
   ],
   "source": [
    "#02-01\n",
    "n = input()\n",
    "\n",
    "n12 = (abs(11-(13*int(n[0])+12*int(n[1])+11*int(n[2])+10*int(n[3])+9*int(n[4])+8*int(n[5])+7*int(n[6])+6*int(n[7])+5*int(n[8])+4*int(n[9])+3*int(n[10])+2*int(n[11]))%11))%10\n",
    "\n",
    "print(n[0],n[1:5],n[5:10],n[10:12],n12)"
   ]
  },
  {
   "cell_type": "code",
   "execution_count": 5,
   "id": "340ad7d0",
   "metadata": {},
   "outputs": [
    {
     "name": "stdout",
     "output_type": "stream",
     "text": [
      "1\n",
      "1 --> one\n"
     ]
    }
   ],
   "source": [
    "#02-02\n",
    "n = int(input())\n",
    "\n",
    "num_str = [\"zero\",\"one\",\"two\",\"three\",\"four\",\"five\",\"six\",\"seven\",\"eight\",\"nine\"]\n",
    "print(n,\"-->\",num_str[n])\n",
    "    "
   ]
  },
  {
   "cell_type": "code",
   "execution_count": 8,
   "id": "936cc2fb",
   "metadata": {},
   "outputs": [
    {
     "name": "stdout",
     "output_type": "stream",
     "text": [
      "20/2/2022\n",
      "February20 , 2022\n"
     ]
    }
   ],
   "source": [
    "#02-03\n",
    "date = input().split('/')\n",
    "d = date[0]\n",
    "m = int(date[1])-1\n",
    "y = date[2]\n",
    "\n",
    "months = ['January', 'February', 'March', 'April', 'May', 'June', 'July',\n",
    "          'August', 'September', 'October', 'November', 'December']\n",
    "\n",
    "\n",
    "print(months[m]+ d,\",\",y)"
   ]
  },
  {
   "cell_type": "code",
   "execution_count": 22,
   "id": "e5ae73e3",
   "metadata": {},
   "outputs": [
    {
     "name": "stdout",
     "output_type": "stream",
     "text": [
      "123\n",
      "2\n",
      "123\n"
     ]
    }
   ],
   "source": [
    "#02-04\n",
    "m = input()\n",
    "n = int(input())\n",
    "\n",
    "d = n-len(m)\n",
    "\n",
    "print(d*'0'+ m)\n",
    "    "
   ]
  },
  {
   "cell_type": "code",
   "execution_count": 30,
   "id": "17782d0d",
   "metadata": {},
   "outputs": [
    {
     "name": "stdout",
     "output_type": "stream",
     "text": [
      "10 10 10 10 10 10 45\n",
      "105\n"
     ]
    }
   ],
   "source": [
    "#02-05\n",
    "m = input().split()\n",
    "\n",
    "print(int(m[0])+int(m[1])+int(m[2])+int(m[3])+int(m[4])+int(m[5])+int(m[6]))"
   ]
  },
  {
   "cell_type": "code",
   "execution_count": 34,
   "id": "7982ce9f",
   "metadata": {},
   "outputs": [
    {
     "name": "stdout",
     "output_type": "stream",
     "text": [
      "10 10 10\n",
      "10 10 10\n",
      "[10.0, 10.0, 10.0] + [10.0, 10.0, 10.0] = [20.0, 20.0, 20.0]\n"
     ]
    }
   ],
   "source": [
    "u = input().split()\n",
    "v = input().split()\n",
    "\n",
    "u = [float(u[0]),float(u[1]),float(u[2])]\n",
    "v = [float(v[0]),float(v[1]),float(v[2])]\n",
    "result = [u[0]+v[0],u[1]+v[1],u[2]+v[2]]\n",
    "print(u,\"+\",v, \"=\" , result)\n"
   ]
  },
  {
   "cell_type": "code",
   "execution_count": 90,
   "id": "160b0be6",
   "metadata": {},
   "outputs": [
    {
     "name": "stdout",
     "output_type": "stream",
     "text": [
      "00000000000000000000000000000000\n",
      "000A\n"
     ]
    }
   ],
   "source": [
    "#02-07\n",
    "n = input()\n",
    "n1 = n[3::7]\n",
    "n2 = n[7::5]\n",
    "n3 = int(n1)+int(n2)+10000\n",
    "n4 = str(n3)[-4:-1]\n",
    "n5 = int(n4[0]) + int(n4[1]) + int(n4[2])\n",
    "n6 = int(str(n5)[-1])\n",
    "list_char = ['A', 'B', 'C', 'D', 'E', 'F', 'G', 'H', 'I', 'J', 'K', 'L', 'M', 'N', 'O', 'P', 'Q', 'R', 'S', 'T', 'U', 'V', 'W', 'X', 'Y', 'Z']\n",
    "\n",
    "print(n4+list_char[n6])"
   ]
  },
  {
   "cell_type": "code",
   "execution_count": 82,
   "id": "6c8963f4",
   "metadata": {},
   "outputs": [
    {
     "name": "stdout",
     "output_type": "stream",
     "text": [
      "302\n"
     ]
    }
   ],
   "source": [
    "#02-08\n",
    "n = input().split(',')\n",
    "\n",
    "math.gcd()"
   ]
  },
  {
   "cell_type": "code",
   "execution_count": null,
   "id": "587eb1bf",
   "metadata": {},
   "outputs": [],
   "source": []
  }
 ],
 "metadata": {
  "kernelspec": {
   "display_name": "Python 3 (ipykernel)",
   "language": "python",
   "name": "python3"
  },
  "language_info": {
   "codemirror_mode": {
    "name": "ipython",
    "version": 3
   },
   "file_extension": ".py",
   "mimetype": "text/x-python",
   "name": "python",
   "nbconvert_exporter": "python",
   "pygments_lexer": "ipython3",
   "version": "3.8.10"
  }
 },
 "nbformat": 4,
 "nbformat_minor": 5
}
