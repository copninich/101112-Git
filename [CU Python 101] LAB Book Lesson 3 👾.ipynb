{
 "cells": [
  {
   "cell_type": "markdown",
   "id": "d97edcba",
   "metadata": {},
   "source": [
    "# 03: Selection: if-elif-else"
   ]
  },
  {
   "cell_type": "code",
   "execution_count": null,
   "id": "afc773bc",
   "metadata": {},
   "outputs": [],
   "source": [
    "#03-01\n",
    "s = float(input())\n",
    "\n",
    "if s>= 80:\n",
    "    print('A')\n",
    "elif s>= 70:\n",
    "    print('B')\n",
    "elif s>= 60:\n",
    "    print('C')\n",
    "elif s>= 50:\n",
    "    print('D')\n",
    "else:\n",
    "    print('F')"
   ]
  },
  {
   "cell_type": "code",
   "execution_count": 24,
   "id": "e639aba4",
   "metadata": {},
   "outputs": [
    {
     "name": "stdout",
     "output_type": "stream",
     "text": [
      "1\n",
      "2\n",
      "3\n",
      "4\n",
      "5\n",
      "======\n",
      "3\n"
     ]
    }
   ],
   "source": [
    "#03-02\n",
    "\n",
    "a = int(input())\n",
    "b = int(input())\n",
    "c = int(input())\n",
    "d = int(input())\n",
    "e = int(input())\n",
    "\n",
    "if a>b:\n",
    "    a,b = b,a\n",
    "if c > d:\n",
    "    c,d = d,c\n",
    "if a > c:\n",
    "    b,d = d,b\n",
    "    c = a\n",
    "a = e\n",
    "\n",
    "if a > b:\n",
    "    a,b = b,a\n",
    "if c > a:\n",
    "    b,d = d,b\n",
    "    a = c\n",
    "if a > d:\n",
    "    print('======')\n",
    "    print(d)\n",
    "    \n",
    "print('======')\n",
    "print(a)"
   ]
  },
  {
   "cell_type": "code",
   "execution_count": 23,
   "id": "09f5826e",
   "metadata": {},
   "outputs": [
    {
     "name": "stdout",
     "output_type": "stream",
     "text": [
      "28 2 2559\n",
      "14/3/2559\n"
     ]
    }
   ],
   "source": [
    "d,m,y = [int(e) for e in input().split()]\n",
    "\n",
    "m_yon = [4,6,8,11]\n",
    "\n",
    "y-=543\n",
    "\n",
    "n = 31\n",
    "\n",
    "if m in m_yon:\n",
    "    n = 30\n",
    "else:\n",
    "    if m == 2:\n",
    "        n = 28\n",
    "        if y%400 == 0:\n",
    "            n = 29\n",
    "        if y%4  == 0 and y%100 != 0:\n",
    "            n = 29\n",
    "    \n",
    "d = d+15\n",
    "if d>n:\n",
    "    d-=n\n",
    "    m+=1\n",
    "if m>12:\n",
    "    m-=12\n",
    "    y+=1\n",
    "    \n",
    "y+=543\n",
    "\n",
    "print(str(d)+'/'+str(m)+'/'+str(y))"
   ]
  },
  {
   "cell_type": "code",
   "execution_count": 28,
   "id": "043c8383",
   "metadata": {},
   "outputs": [
    {
     "name": "stdout",
     "output_type": "stream",
     "text": [
      "1 2 3 4\n",
      "1 4 3 4\n"
     ]
    }
   ],
   "source": [
    "a,b,c,d = [int(e) for e in input().split()]\n",
    "\n",
    "if a>b:\n",
    "    a,b = b,a\n",
    "    if d >=a:\n",
    "        if c > d:\n",
    "            c-=a\n",
    "    else:\n",
    "         c+=a\n",
    "    b = a+c+d\n",
    "else:\n",
    "    if c > a >=b:\n",
    "        d+=a\n",
    "    else:\n",
    "        if d>c:\n",
    "            b +=2\n",
    "        else:\n",
    "            b*=2\n",
    "\n",
    "print(a,b,c,d)\n",
    "    "
   ]
  },
  {
   "cell_type": "code",
   "execution_count": 31,
   "id": "ea053972",
   "metadata": {},
   "outputs": [
    {
     "name": "stdout",
     "output_type": "stream",
     "text": [
      "20\n",
      "OK\n"
     ]
    }
   ],
   "source": [
    "faculty = input()\n",
    "\n",
    "faculty_list = [\"01\",\"02\",\"20\",\"21\",\"22\",\"23\",\"24\",\"25\",\"26\",\"27\",\"28\",\"29\",\"30\",\"31\",\"32\",\"33\",\"34\",\"35\",\"36\",\"37\",\"38\",\"39\",\"40\",\"51\",\"53\",\"55\",\"58\"]\n",
    "\n",
    "if faculty in faculty_list:\n",
    "    print(\"OK\")\n",
    "else:\n",
    "    print(\"Error\")"
   ]
  },
  {
   "cell_type": "code",
   "execution_count": 37,
   "id": "4530c150",
   "metadata": {},
   "outputs": [
    {
     "name": "stdout",
     "output_type": "stream",
     "text": [
      "121 12\n",
      "`12 sd\n"
     ]
    },
    {
     "ename": "ValueError",
     "evalue": "could not convert string to float: 'sd'",
     "output_type": "error",
     "traceback": [
      "\u001b[0;31m---------------------------------------------------------------------------\u001b[0m",
      "\u001b[0;31mValueError\u001b[0m                                Traceback (most recent call last)",
      "Input \u001b[0;32mIn [37]\u001b[0m, in \u001b[0;36m<module>\u001b[0;34m\u001b[0m\n\u001b[1;32m      2\u001b[0m stu2 \u001b[38;5;241m=\u001b[39m \u001b[38;5;28minput\u001b[39m()\u001b[38;5;241m.\u001b[39msplit()\n\u001b[1;32m      4\u001b[0m g1 \u001b[38;5;241m=\u001b[39m \u001b[38;5;28mfloat\u001b[39m(stu1[\u001b[38;5;241m1\u001b[39m])\n\u001b[0;32m----> 5\u001b[0m g2 \u001b[38;5;241m=\u001b[39m \u001b[38;5;28;43mfloat\u001b[39;49m\u001b[43m(\u001b[49m\u001b[43mstu2\u001b[49m\u001b[43m[\u001b[49m\u001b[38;5;241;43m1\u001b[39;49m\u001b[43m]\u001b[49m\u001b[43m)\u001b[49m\n\u001b[1;32m      7\u001b[0m com1 \u001b[38;5;241m=\u001b[39m stu1[\u001b[38;5;241m2\u001b[39m]\n\u001b[1;32m      8\u001b[0m com2 \u001b[38;5;241m=\u001b[39m stu2[\u001b[38;5;241m2\u001b[39m]\n",
      "\u001b[0;31mValueError\u001b[0m: could not convert string to float: 'sd'"
     ]
    }
   ],
   "source": [
    "stu1 = input().split()\n",
    "stu2 = input().split()\n",
    "\n",
    "g1 = float(stu1[1])\n",
    "g2 = float(stu2[1])\n",
    "\n",
    "com1 = stu1[2]\n",
    "com2 = stu2[2]\n",
    "\n",
    "cal1_1 = stu1[3]\n",
    "cal1_2 = stu2[3]\n",
    "\n",
    "cal2_1 = stu1[4]\n",
    "cal2_2 = stu2[4]\n",
    "\n",
    "if com1 != 'A' and com2 !='A':\n",
    "    print('None')\n",
    "else:\n",
    "    if com1 < com2:\n",
    "        print(stu1[0])\n",
    "    elif com2 < com1:\n",
    "        print(stu2[0])\n",
    "    else:\n",
    "        if g1>g2 and cal1_1 < \"C\" and cal1_2 < \"C\":\n",
    "            print(stu1[0])\n",
    "        elif g2>g1 and cal2_1 < \"C\" and cal2_2 < \"C\":\n",
    "            print(stu2[0])\n",
    "        else:\n",
    "            if cal1_1 > cal1_2:\n",
    "                print(stu1[0])\n",
    "            elif cal1_2 > cal1_1:\n",
    "                print(stu2[0])\n",
    "            else:\n",
    "                if cal2_1 > cal2_2:\n",
    "                    print(stu1[0])\n",
    "                elif cal2_2 > cal2_1:\n",
    "                    print(stu2[0])\n",
    "                else:\n",
    "                    print(\"Both\")\n",
    "    "
   ]
  },
  {
   "cell_type": "code",
   "execution_count": 51,
   "id": "f31337da",
   "metadata": {},
   "outputs": [
    {
     "name": "stdout",
     "output_type": "stream",
     "text": [
      "9.84 9.30 9.42 9.58\n",
      "9.84\n",
      "9.50\n"
     ]
    }
   ],
   "source": [
    "n = input().split()\n",
    "max_v = float(n[0])\n",
    "min_v = float(n[3])\n",
    "\n",
    "if float(n[1]) > max_v:\n",
    "    max_v = float(n[1])\n",
    "if float(n[2]) > max_v:\n",
    "    max_v = float(n[2])\n",
    "if float(n[3]) > max_v:\n",
    "    max_v = float(n[3])\n",
    "    \n",
    "if float(n[0]) < min_v:\n",
    "    min_v = float(n[0])\n",
    "if float(n[1]) < min_v:\n",
    "    min_v = float(n[1]) \n",
    "if float(n[2]) < min_v:\n",
    "    min_v = float(n[2])\n",
    "    \n",
    "score = (((float(n[0]) + float(n[1])+ float(n[2])+ float(n[3]))-min_v)-max_v)/2\n",
    "\n",
    "print(\"%.2f\" % score)"
   ]
  },
  {
   "cell_type": "code",
   "execution_count": 56,
   "id": "0e2e9c69",
   "metadata": {},
   "outputs": [
    {
     "name": "stdout",
     "output_type": "stream",
     "text": [
      "0766\n",
      "Not a mobile number\n"
     ]
    }
   ],
   "source": [
    "n = input()\n",
    "\n",
    "if n[0:2] == \"06\" or n[0:2] == \"08\" or n[0:2] == \"09\":\n",
    "    print(\"Mobile number\")\n",
    "else:\n",
    "    print(\"Not a mobile number\")"
   ]
  },
  {
   "cell_type": "code",
   "execution_count": 61,
   "id": "eee21278",
   "metadata": {},
   "outputs": [
    {
     "name": "stdout",
     "output_type": "stream",
     "text": [
      "0\n",
      "zero\n",
      "even\n"
     ]
    }
   ],
   "source": [
    "n = int(input())\n",
    "\n",
    "if n > 0:\n",
    "    status = \"positive\"\n",
    "elif n == 0:\n",
    "    status = \"zero\"\n",
    "else:\n",
    "    status = \"negative\"\n",
    "\n",
    "if n%2 == 0:\n",
    "    num_status = \"even\"\n",
    "else:\n",
    "    num_status = \"odd\"\n",
    "    \n",
    "print(status+'\\n'+num_status)"
   ]
  },
  {
   "cell_type": "code",
   "execution_count": 66,
   "id": "5da98a84",
   "metadata": {},
   "outputs": [
    {
     "name": "stdout",
     "output_type": "stream",
     "text": [
      "231243143124\n",
      "Reject\n"
     ]
    }
   ],
   "source": [
    "n = int(input())\n",
    "\n",
    "if n <= 100:\n",
    "    print(18)\n",
    "elif n<= 250:\n",
    "    print(22)\n",
    "elif n<= 500:\n",
    "    print(28)\n",
    "elif n <= 1000:\n",
    "    print(38)\n",
    "elif n <= 2000:\n",
    "    print(58)\n",
    "else:\n",
    "    print(\"Reject\")"
   ]
  },
  {
   "cell_type": "code",
   "execution_count": 5,
   "id": "3954fb87",
   "metadata": {},
   "outputs": [
    {
     "name": "stdout",
     "output_type": "stream",
     "text": [
      "580912391\n",
      "581M\n"
     ]
    }
   ],
   "source": [
    "n = input()\n",
    "\n",
    "x = len(n)\n",
    "\n",
    "if x <= 3:\n",
    "    print(n)\n",
    "elif x == 4:\n",
    "    if n[-2] >= '5':\n",
    "        point = int(n[-3])+1\n",
    "    else:\n",
    "        point = int(n[-3])\n",
    "    print(n[0]+'.'+str(point)+'K')\n",
    "elif x == 5:\n",
    "    if n[-3] >= '5':\n",
    "        point = int(n[-4])+1\n",
    "    else:\n",
    "        point = int(n[-4])\n",
    "    print(n[0]+str(point)+'K')\n",
    "elif x == 6:\n",
    "    if n[-3] >= '5':\n",
    "        point = int(n[-4])+1\n",
    "    else:\n",
    "        point = int(n[-4])\n",
    "    print(n[0:2]+str(point)+'K')\n",
    "elif x == 7:\n",
    "    if n[-5] >= '5':\n",
    "        point = int(n[-6])+1\n",
    "    else:\n",
    "        point = int(n[-6])\n",
    "    print(n[0]+'.'+str(point)+'M')\n",
    "elif x == 8:\n",
    "    if n[-6] >= '5':\n",
    "        point = int(n[-7])+1\n",
    "    else:\n",
    "        point = int(n[-7])\n",
    "    print(n[0]+str(point)+'M')\n",
    "    \n",
    "elif x == 9:\n",
    "    if n[-6] >= '5':\n",
    "        point = int(n[-7])+1\n",
    "    else:\n",
    "        point = int(n[-7])\n",
    "    print(n[0:2]+str(point)+'M')"
   ]
  },
  {
   "cell_type": "code",
   "execution_count": null,
   "id": "e7e561d6",
   "metadata": {},
   "outputs": [],
   "source": []
  }
 ],
 "metadata": {
  "kernelspec": {
   "display_name": "Python 3 (ipykernel)",
   "language": "python",
   "name": "python3"
  },
  "language_info": {
   "codemirror_mode": {
    "name": "ipython",
    "version": 3
   },
   "file_extension": ".py",
   "mimetype": "text/x-python",
   "name": "python",
   "nbconvert_exporter": "python",
   "pygments_lexer": "ipython3",
   "version": "3.8.10"
  }
 },
 "nbformat": 4,
 "nbformat_minor": 5
}
