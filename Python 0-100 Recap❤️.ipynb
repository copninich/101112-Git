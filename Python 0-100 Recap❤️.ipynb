{
 "cells": [
  {
   "cell_type": "code",
   "execution_count": 5,
   "id": "4f7ac27d",
   "metadata": {},
   "outputs": [
    {
     "name": "stdout",
     "output_type": "stream",
     "text": [
      "Merry X'mas\n"
     ]
    }
   ],
   "source": [
    "print(\"Merry X'mas\")"
   ]
  },
  {
   "cell_type": "code",
   "execution_count": null,
   "id": "f2b10640",
   "metadata": {},
   "outputs": [],
   "source": [
    "p"
   ]
  },
  {
   "cell_type": "code",
   "execution_count": 6,
   "id": "8ef5852f",
   "metadata": {},
   "outputs": [
    {
     "name": "stdout",
     "output_type": "stream",
     "text": [
      "I want to ask you \"Why don't you drive to work \"\n"
     ]
    }
   ],
   "source": [
    "print('''I want to ask you \"Why don't you drive to work \"''')"
   ]
  },
  {
   "cell_type": "code",
   "execution_count": 7,
   "id": "476992fb",
   "metadata": {},
   "outputs": [
    {
     "name": "stdout",
     "output_type": "stream",
     "text": [
      "\"I don't have a new car\"\n"
     ]
    }
   ],
   "source": [
    "print('''\"I don't have a new car\"''')"
   ]
  },
  {
   "cell_type": "code",
   "execution_count": 9,
   "id": "ea8c2d68",
   "metadata": {},
   "outputs": [
    {
     "name": "stdout",
     "output_type": "stream",
     "text": [
      "You got new Job!??  That's so exciting\n"
     ]
    }
   ],
   "source": [
    "print(\"\"\"You got new Job!??  That's so exciting\"\"\")"
   ]
  },
  {
   "cell_type": "code",
   "execution_count": 10,
   "id": "417da654",
   "metadata": {},
   "outputs": [
    {
     "name": "stdout",
     "output_type": "stream",
     "text": [
      "สวัสดีวันจันทร์\n"
     ]
    }
   ],
   "source": [
    "print(\"สวัสดีวันจันทร์\")"
   ]
  },
  {
   "cell_type": "code",
   "execution_count": 11,
   "id": "6cc9d387",
   "metadata": {},
   "outputs": [
    {
     "name": "stdout",
     "output_type": "stream",
     "text": [
      "ความแตกต่างระหว่างคนเก่งกับคนไม่เก่ง คือ \"การใช้เวลาว่างให้เกิดประโยชน์\"\n"
     ]
    }
   ],
   "source": [
    "print('ความแตกต่างระหว่างคนเก่งกับคนไม่เก่ง คือ \"การใช้เวลาว่างให้เกิดประโยชน์\"')"
   ]
  },
  {
   "cell_type": "code",
   "execution_count": 17,
   "id": "987b4bbd",
   "metadata": {},
   "outputs": [
    {
     "name": "stdout",
     "output_type": "stream",
     "text": [
      "/\\/\\/\\\n"
     ]
    }
   ],
   "source": [
    "print('/\\\\/\\\\/\\\\')"
   ]
  },
  {
   "cell_type": "code",
   "execution_count": 19,
   "id": "a6b33a84",
   "metadata": {},
   "outputs": [
    {
     "name": "stdout",
     "output_type": "stream",
     "text": [
      " a \n",
      " an \n",
      " ant\n"
     ]
    }
   ],
   "source": [
    "print(' a \\n an \\n ant')"
   ]
  },
  {
   "cell_type": "code",
   "execution_count": 22,
   "id": "6979e7dd",
   "metadata": {},
   "outputs": [
    {
     "name": "stdout",
     "output_type": "stream",
     "text": [
      "\t*\t\n",
      "*\t\t*\n",
      "\t*\t\n"
     ]
    }
   ],
   "source": [
    "print('\\t*\\t\\n*\\t\\t*\\n\\t*\\t')"
   ]
  },
  {
   "cell_type": "code",
   "execution_count": 25,
   "id": "191a4793",
   "metadata": {},
   "outputs": [
    {
     "name": "stdout",
     "output_type": "stream",
     "text": [
      "*\t+\t*\n",
      "\n",
      "+\t*\t+\n",
      "\n",
      "*\t+\t*\n",
      "\n"
     ]
    }
   ],
   "source": [
    "print('''*\\t+\\t*\\n\n",
    "+\\t*\\t+\\n\n",
    "*\\t+\\t*\n",
    "''')"
   ]
  },
  {
   "cell_type": "code",
   "execution_count": 29,
   "id": "3541ae69",
   "metadata": {},
   "outputs": [
    {
     "name": "stdout",
     "output_type": "stream",
     "text": [
      "Just Because something\n",
      "thinks differently from you,\n",
      "does that mean it's not thinking?\n"
     ]
    }
   ],
   "source": [
    "print('''Just Because something\n",
    "thinks differently from you,\n",
    "does that mean it's not thinking?''')"
   ]
  },
  {
   "cell_type": "code",
   "execution_count": 33,
   "id": "c7d7140b",
   "metadata": {},
   "outputs": [
    {
     "name": "stdout",
     "output_type": "stream",
     "text": [
      "\\\t \t/\n",
      "\n",
      "\tx\t\n",
      "\n",
      "\\\t \t/\n",
      "\n"
     ]
    }
   ],
   "source": [
    "print('''\\\\\\t \\t/\\n\n",
    "\\tx\\t\\n\n",
    "\\\\\\t \\t/\\n''')"
   ]
  },
  {
   "cell_type": "code",
   "execution_count": 34,
   "id": "933ecc44",
   "metadata": {},
   "outputs": [
    {
     "name": "stdout",
     "output_type": "stream",
     "text": [
      "25\n"
     ]
    }
   ],
   "source": [
    "print(25)"
   ]
  },
  {
   "cell_type": "code",
   "execution_count": 35,
   "id": "dcb34b94",
   "metadata": {},
   "outputs": [
    {
     "name": "stdout",
     "output_type": "stream",
     "text": [
      "100.0\n"
     ]
    }
   ],
   "source": [
    "print(float(100))"
   ]
  },
  {
   "cell_type": "code",
   "execution_count": 37,
   "id": "66c45575",
   "metadata": {},
   "outputs": [
    {
     "name": "stdout",
     "output_type": "stream",
     "text": [
      "3.141592653589793\n"
     ]
    }
   ],
   "source": [
    "import math\n",
    "print(math.pi)"
   ]
  },
  {
   "cell_type": "code",
   "execution_count": 39,
   "id": "64513ff8",
   "metadata": {},
   "outputs": [
    {
     "name": "stdout",
     "output_type": "stream",
     "text": [
      "2\n"
     ]
    }
   ],
   "source": [
    "a=2\n",
    "print(a)"
   ]
  },
  {
   "cell_type": "code",
   "execution_count": 40,
   "id": "5bd56cef",
   "metadata": {},
   "outputs": [
    {
     "name": "stdout",
     "output_type": "stream",
     "text": [
      "12.5\n"
     ]
    }
   ],
   "source": [
    "a=12.5\n",
    "print(a)"
   ]
  },
  {
   "cell_type": "code",
   "execution_count": 48,
   "id": "94db996b",
   "metadata": {},
   "outputs": [
    {
     "name": "stdout",
     "output_type": "stream",
     "text": [
      "2 x 3 = 6\n"
     ]
    }
   ],
   "source": [
    "a = 2\n",
    "b = 3\n",
    "print(a, 'x', b ,'=',a*b)"
   ]
  },
  {
   "cell_type": "code",
   "execution_count": 52,
   "id": "d5b71f48",
   "metadata": {},
   "outputs": [
    {
     "name": "stdout",
     "output_type": "stream",
     "text": [
      "2 + 3 = 3 + 2 = 5\n",
      "2 + 3 = 3 + 2 = 5\n",
      "2*(3+5)=2*3+2*5\n"
     ]
    }
   ],
   "source": [
    "a = 2\n",
    "b = 3\n",
    "c = 5\n",
    "print(a,'+',b,'=',b,'+',a,'=',a+b)\n",
    "\n",
    "#recommend\n",
    "print('%d + %d = %d + %d = %d' %(a,b,b,a,a+b))\n",
    "\n",
    "print('%d*(%d+%d)=%d*%d+%d*%d' %(a,b,c,a,b,a,c))"
   ]
  },
  {
   "cell_type": "code",
   "execution_count": 62,
   "id": "91f754b4",
   "metadata": {},
   "outputs": [
    {
     "name": "stdout",
     "output_type": "stream",
     "text": [
      "2.4 + 2.5 = 4.900000\n",
      "2.4+2.5=4.9000\n"
     ]
    }
   ],
   "source": [
    "a = 2.4\n",
    "b = 2.5\n",
    "\n",
    "print(a, '+' ,b ,'=', '%f' %(a+b))\n",
    "\n",
    "#recommend\n",
    "\n",
    "print('%.1f+%.1f=%.4f' %(a,b,a+b))"
   ]
  },
  {
   "cell_type": "code",
   "execution_count": 68,
   "id": "08d2c285",
   "metadata": {},
   "outputs": [
    {
     "name": "stdout",
     "output_type": "stream",
     "text": [
      "5.00-2.00=3.0000\n"
     ]
    }
   ],
   "source": [
    "a = 5\n",
    "b = 2\n",
    "print('%.2f-%.2f=%.4f' %(a,b,a-b))"
   ]
  },
  {
   "cell_type": "code",
   "execution_count": 70,
   "id": "728c9e7f",
   "metadata": {},
   "outputs": [
    {
     "name": "stdout",
     "output_type": "stream",
     "text": [
      "ฉันเกิดวันที่ 25 ธันวาคม\n"
     ]
    }
   ],
   "source": [
    "bd = 25\n",
    "print('ฉันเกิดวันที่',bd,'ธันวาคม')"
   ]
  },
  {
   "cell_type": "code",
   "execution_count": 72,
   "id": "a234f82e",
   "metadata": {},
   "outputs": [
    {
     "name": "stdout",
     "output_type": "stream",
     "text": [
      "5 เท่าของ 100 มีค่าเท่ากับ 500\n"
     ]
    }
   ],
   "source": [
    "a = 5\n",
    "b = 100\n",
    "print('%d เท่าของ %d มีค่าเท่ากับ %d' %(a,b,a*b))"
   ]
  },
  {
   "cell_type": "code",
   "execution_count": 75,
   "id": "6d22a151",
   "metadata": {},
   "outputs": [
    {
     "name": "stdout",
     "output_type": "stream",
     "text": [
      "เขามีเงินเยอะกว่าฉัน 3.50 บาท\n"
     ]
    }
   ],
   "source": [
    "a = 3.5\n",
    "print('เขามีเงินเยอะกว่าฉัน %.2f บาท' %(a))"
   ]
  },
  {
   "cell_type": "code",
   "execution_count": 78,
   "id": "396e8748",
   "metadata": {},
   "outputs": [
    {
     "name": "stdout",
     "output_type": "stream",
     "text": [
      "ฉันได้กำไร 5 %\n"
     ]
    }
   ],
   "source": [
    "a = 5\n",
    "print('ฉันได้กำไร' ,a , '%' )"
   ]
  },
  {
   "cell_type": "code",
   "execution_count": 83,
   "id": "508f11aa",
   "metadata": {},
   "outputs": [
    {
     "name": "stdout",
     "output_type": "stream",
     "text": [
      "เมื่อวานฉันขาดทุน 2 % วันนี้ฉันได้กำไร 3.50\n",
      "เมื่อวานฉันขาดทุน 2 % วันนี้ฉันได้กำไร 3.50 %\n"
     ]
    }
   ],
   "source": [
    "a = 2 \n",
    "b = 3.5\n",
    "print('เมื่อวานฉันขาดทุน',a, '%' , 'วันนี้ฉันได้กำไร %.2f' %(b))\n",
    "\n",
    "#recommend\n",
    "print('เมื่อวานฉันขาดทุน %d %% วันนี้ฉันได้กำไร %.2f %%' %(a,b))"
   ]
  },
  {
   "cell_type": "code",
   "execution_count": null,
   "id": "bf686014",
   "metadata": {},
   "outputs": [],
   "source": []
  }
 ],
 "metadata": {
  "kernelspec": {
   "display_name": "Python 3 (ipykernel)",
   "language": "python",
   "name": "python3"
  },
  "language_info": {
   "codemirror_mode": {
    "name": "ipython",
    "version": 3
   },
   "file_extension": ".py",
   "mimetype": "text/x-python",
   "name": "python",
   "nbconvert_exporter": "python",
   "pygments_lexer": "ipython3",
   "version": "3.8.10"
  }
 },
 "nbformat": 4,
 "nbformat_minor": 5
}
