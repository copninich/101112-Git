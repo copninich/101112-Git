{
 "cells": [
  {
   "cell_type": "markdown",
   "id": "d97edcba",
   "metadata": {},
   "source": [
    "# 03: Selection: if-elif-else"
   ]
  },
  {
   "cell_type": "code",
   "execution_count": null,
   "id": "afc773bc",
   "metadata": {},
   "outputs": [],
   "source": [
    "#03-01\n",
    "s = float(input())\n",
    "\n",
    "if s>= 80:\n",
    "    print('A')\n",
    "elif s>= 70:\n",
    "    print('B')\n",
    "elif s>= 60:\n",
    "    print('C')\n",
    "elif s>= 50:\n",
    "    print('D')\n",
    "else:\n",
    "    print('F')"
   ]
  },
  {
   "cell_type": "code",
   "execution_count": 24,
   "id": "e639aba4",
   "metadata": {},
   "outputs": [
    {
     "name": "stdout",
     "output_type": "stream",
     "text": [
      "1\n",
      "2\n",
      "3\n",
      "4\n",
      "5\n",
      "======\n",
      "3\n"
     ]
    }
   ],
   "source": [
    "#03-02\n",
    "\n",
    "a = int(input())\n",
    "b = int(input())\n",
    "c = int(input())\n",
    "d = int(input())\n",
    "e = int(input())\n",
    "\n",
    "if a>b:\n",
    "    a,b = b,a\n",
    "if c > d:\n",
    "    c,d = d,c\n",
    "if a > c:\n",
    "    b,d = d,b\n",
    "    c = a\n",
    "a = e\n",
    "\n",
    "if a > b:\n",
    "    a,b = b,a\n",
    "if c > a:\n",
    "    b,d = d,b\n",
    "    a = c\n",
    "if a > d:\n",
    "    print('======')\n",
    "    print(d)\n",
    "    \n",
    "print('======')\n",
    "print(a)"
   ]
  },
  {
   "cell_type": "code",
   "execution_count": 23,
   "id": "09f5826e",
   "metadata": {},
   "outputs": [
    {
     "name": "stdout",
     "output_type": "stream",
     "text": [
      "28 2 2559\n",
      "14/3/2559\n"
     ]
    }
   ],
   "source": [
    "d,m,y = [int(e) for e in input().split()]\n",
    "\n",
    "m_yon = [4,6,8,11]\n",
    "\n",
    "y-=543\n",
    "\n",
    "n = 31\n",
    "\n",
    "if m in m_yon:\n",
    "    n = 30\n",
    "else:\n",
    "    if m == 2:\n",
    "        n = 28\n",
    "        if y%400 == 0:\n",
    "            n = 29\n",
    "        if y%4  == 0 and y%100 != 0:\n",
    "            n = 29\n",
    "    \n",
    "d = d+15\n",
    "if d>n:\n",
    "    d-=n\n",
    "    m+=1\n",
    "if m>12:\n",
    "    m-=12\n",
    "    y+=1\n",
    "    \n",
    "y+=543\n",
    "\n",
    "print(str(d)+'/'+str(m)+'/'+str(y))"
   ]
  },
  {
   "cell_type": "code",
   "execution_count": 28,
   "id": "d722a001",
   "metadata": {},
   "outputs": [
    {
     "name": "stdout",
     "output_type": "stream",
     "text": [
      "1 2 3 4\n",
      "1 4 3 4\n"
     ]
    }
   ],
   "source": [
    "a,b,c,d = [int(e) for e in input().split()]\n",
    "\n",
    "if a>b:\n",
    "    a,b = b,a\n",
    "    if d >=a:\n",
    "        if c > d:\n",
    "            c-=a\n",
    "    else:\n",
    "         c+=a\n",
    "    b = a+c+d\n",
    "else:\n",
    "    if c > a >=b:\n",
    "        d+=a\n",
    "    else:\n",
    "        if d>c:\n",
    "            b +=2\n",
    "        else:\n",
    "            b*=2\n",
    "\n",
    "print(a,b,c,d)\n",
    "    "
   ]
  },
  {
   "cell_type": "code",
   "execution_count": 31,
   "id": "bb4173da",
   "metadata": {},
   "outputs": [
    {
     "name": "stdout",
     "output_type": "stream",
     "text": [
      "20\n",
      "OK\n"
     ]
    }
   ],
   "source": [
    "faculty = input()\n",
    "\n",
    "faculty_list = [\"01\",\"02\",\"20\",\"21\",\"22\",\"23\",\"24\",\"25\",\"26\",\"27\",\"28\",\"29\",\"30\",\"31\",\"32\",\"33\",\"34\",\"35\",\"36\",\"37\",\"38\",\"39\",\"40\",\"51\",\"53\",\"55\",\"58\"]\n",
    "\n",
    "if faculty in faculty_list:\n",
    "    print(\"OK\")\n",
    "else:\n",
    "    print(\"Error\")"
   ]
  },
  {
   "cell_type": "code",
   "execution_count": null,
   "id": "52ae2f48",
   "metadata": {},
   "outputs": [],
   "source": [
    "stu1 = input().split()\n",
    "stu2 = input().split()\n",
    "\n",
    "g1 = float(stu1[1])\n",
    "g2 = float(stu2[1])\n",
    "\n",
    "com1 = stu1[2]\n",
    "com2 = stu2[2]\n",
    "\n",
    "cal1_1 = stu1[3]\n",
    "cal1_2 = stu2[3]\n",
    "\n",
    "cal2_1 = stu1[4]\n",
    "cal2_2 = stu2[4]\n",
    "\n",
    "if g1 >= g2:\n",
    "    if com1 "
   ]
  },
  {
   "cell_type": "code",
   "execution_count": null,
   "id": "5f682109",
   "metadata": {},
   "outputs": [],
   "source": []
  }
 ],
 "metadata": {
  "kernelspec": {
   "display_name": "Python 3 (ipykernel)",
   "language": "python",
   "name": "python3"
  },
  "language_info": {
   "codemirror_mode": {
    "name": "ipython",
    "version": 3
   },
   "file_extension": ".py",
   "mimetype": "text/x-python",
   "name": "python",
   "nbconvert_exporter": "python",
   "pygments_lexer": "ipython3",
   "version": "3.8.10"
  }
 },
 "nbformat": 4,
 "nbformat_minor": 5
}
